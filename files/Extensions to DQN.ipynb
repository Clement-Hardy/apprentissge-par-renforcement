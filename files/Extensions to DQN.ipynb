{
 "cells": [
  {
   "cell_type": "markdown",
   "metadata": {},
   "source": [
    "# Rainbow- Combining Improvements in Deep Reinforcement Learning"
   ]
  },
  {
   "cell_type": "markdown",
   "metadata": {},
   "source": [
    "### Import classes from files"
   ]
  },
  {
   "cell_type": "code",
   "execution_count": 1,
   "metadata": {
    "ExecuteTime": {
     "end_time": "2019-02-04T10:54:38.976316Z",
     "start_time": "2019-02-04T10:54:38.628207Z"
    }
   },
   "outputs": [],
   "source": [
    "from dqn import DQN\n",
    "from ddqn import DDQN\n",
    "from noisy import Noisy\n",
    "from multi_step import MultiStep\n",
    "from prioritized import Prioritized\n",
    "from rainbow import Rainbow\n",
    "\n",
    "import model\n",
    "from config import Config\n",
    "\n",
    "import gym\n",
    "import matplotlib.pyplot as plt"
   ]
  },
  {
   "cell_type": "markdown",
   "metadata": {},
   "source": [
    "Initialize our config object, set en empty list of agents (which will be filled later) and set the number of iterations."
   ]
  },
  {
   "cell_type": "code",
   "execution_count": 2,
   "metadata": {
    "ExecuteTime": {
     "end_time": "2019-02-04T10:54:38.979987Z",
     "start_time": "2019-02-04T10:54:38.977563Z"
    }
   },
   "outputs": [],
   "source": [
    "conf = Config()\n",
    "agents = []\n",
    "nb_episode = 50"
   ]
  },
  {
   "cell_type": "markdown",
   "metadata": {},
   "source": [
    "## DQN"
   ]
  },
  {
   "cell_type": "code",
   "execution_count": 3,
   "metadata": {
    "ExecuteTime": {
     "end_time": "2019-02-04T10:54:39.061869Z",
     "start_time": "2019-02-04T10:54:38.981938Z"
    }
   },
   "outputs": [],
   "source": [
    "env_id = \"CartPole-v0\"\n",
    "env = gym.make(env_id)\n",
    "env._max_episode_steps = 40000"
   ]
  },
  {
   "cell_type": "code",
   "execution_count": 4,
   "metadata": {
    "ExecuteTime": {
     "end_time": "2019-02-04T10:54:39.068075Z",
     "start_time": "2019-02-04T10:54:39.064028Z"
    }
   },
   "outputs": [],
   "source": [
    "model1 = model.model_basic(\n",
    "    input_shape=env.observation_space.shape[0], output_shape=env.action_space.n)\n",
    "target_model = model.model_basic(\n",
    "    input_shape=env.observation_space.shape[0], output_shape=env.action_space.n)"
   ]
  },
  {
   "cell_type": "code",
   "execution_count": 5,
   "metadata": {
    "ExecuteTime": {
     "end_time": "2019-02-04T10:54:39.074589Z",
     "start_time": "2019-02-04T10:54:39.069236Z"
    }
   },
   "outputs": [],
   "source": [
    "dqn = DQN(env=env, model=model1, target_model=target_model, config=conf)\n",
    "agents.append(dqn)"
   ]
  },
  {
   "cell_type": "code",
   "execution_count": 6,
   "metadata": {
    "ExecuteTime": {
     "end_time": "2019-02-04T10:55:34.754039Z",
     "start_time": "2019-02-04T10:54:39.075842Z"
    },
    "scrolled": true
   },
   "outputs": [],
   "source": [
    "dqn.train(nb_episode=nb_episode)"
   ]
  },
  {
   "cell_type": "markdown",
   "metadata": {},
   "source": [
    "# Extensions to Deep Q-Network\n",
    "\n",
    "## DDQN"
   ]
  },
  {
   "cell_type": "code",
   "execution_count": 7,
   "metadata": {
    "ExecuteTime": {
     "end_time": "2019-02-04T10:55:34.765586Z",
     "start_time": "2019-02-04T10:55:34.761153Z"
    }
   },
   "outputs": [],
   "source": [
    "env_id = \"CartPole-v0\"\n",
    "env = gym.make(env_id)\n",
    "env._max_episode_steps = 40000"
   ]
  },
  {
   "cell_type": "code",
   "execution_count": 8,
   "metadata": {
    "ExecuteTime": {
     "end_time": "2019-02-04T10:55:34.775776Z",
     "start_time": "2019-02-04T10:55:34.767113Z"
    }
   },
   "outputs": [],
   "source": [
    "model1 = model.model_basic(\n",
    "    input_shape=env.observation_space.shape[0], output_shape=env.action_space.n)\n",
    "target_model = model.model_basic(\n",
    "    input_shape=env.observation_space.shape[0], output_shape=env.action_space.n)"
   ]
  },
  {
   "cell_type": "code",
   "execution_count": 9,
   "metadata": {
    "ExecuteTime": {
     "end_time": "2019-02-04T10:55:34.782303Z",
     "start_time": "2019-02-04T10:55:34.777171Z"
    }
   },
   "outputs": [],
   "source": [
    "ddqn = DDQN(env=env, model=model1, target_model=target_model, config=conf)\n",
    "agents.append(ddqn)"
   ]
  },
  {
   "cell_type": "code",
   "execution_count": 10,
   "metadata": {
    "ExecuteTime": {
     "end_time": "2019-02-04T10:56:37.362857Z",
     "start_time": "2019-02-04T10:55:34.783442Z"
    },
    "scrolled": true
   },
   "outputs": [],
   "source": [
    "ddqn.train(nb_episode=nb_episode)"
   ]
  },
  {
   "cell_type": "markdown",
   "metadata": {},
   "source": [
    "## Noisy-nets"
   ]
  },
  {
   "cell_type": "code",
   "execution_count": 11,
   "metadata": {
    "ExecuteTime": {
     "end_time": "2019-02-04T10:56:37.369566Z",
     "start_time": "2019-02-04T10:56:37.366066Z"
    }
   },
   "outputs": [],
   "source": [
    "env_id = \"CartPole-v0\"\n",
    "env = gym.make(env_id)\n",
    "env._max_episode_steps = 40000"
   ]
  },
  {
   "cell_type": "code",
   "execution_count": 12,
   "metadata": {
    "ExecuteTime": {
     "end_time": "2019-02-04T10:56:37.379345Z",
     "start_time": "2019-02-04T10:56:37.371675Z"
    }
   },
   "outputs": [],
   "source": [
    "model1 = model.ModelNoisy(\n",
    "    input_shape=env.observation_space.shape[0], output_shape=env.action_space.n)\n",
    "target_model = model.ModelNoisy(\n",
    "    input_shape=env.observation_space.shape[0], output_shape=env.action_space.n)"
   ]
  },
  {
   "cell_type": "code",
   "execution_count": 13,
   "metadata": {
    "ExecuteTime": {
     "end_time": "2019-02-04T10:56:37.383531Z",
     "start_time": "2019-02-04T10:56:37.380671Z"
    }
   },
   "outputs": [],
   "source": [
    "noisy = Noisy(env=env, model=model1, target_model=target_model, config=conf)\n",
    "agents.append(noisy)"
   ]
  },
  {
   "cell_type": "code",
   "execution_count": 14,
   "metadata": {
    "ExecuteTime": {
     "end_time": "2019-02-04T11:00:40.791836Z",
     "start_time": "2019-02-04T10:56:37.384839Z"
    },
    "scrolled": true
   },
   "outputs": [],
   "source": [
    "noisy.train(nb_episode=nb_episode)"
   ]
  },
  {
   "cell_type": "markdown",
   "metadata": {},
   "source": [
    "## Multi-step learning"
   ]
  },
  {
   "cell_type": "code",
   "execution_count": 15,
   "metadata": {
    "ExecuteTime": {
     "end_time": "2019-02-04T11:00:40.796718Z",
     "start_time": "2019-02-04T11:00:40.793293Z"
    }
   },
   "outputs": [],
   "source": [
    "env_id = \"CartPole-v0\"\n",
    "env = gym.make(env_id)\n",
    "env._max_episode_steps = 40000"
   ]
  },
  {
   "cell_type": "code",
   "execution_count": 16,
   "metadata": {
    "ExecuteTime": {
     "end_time": "2019-02-04T11:00:40.804754Z",
     "start_time": "2019-02-04T11:00:40.798461Z"
    }
   },
   "outputs": [],
   "source": [
    "model1 = model.model_basic(\n",
    "    input_shape=env.observation_space.shape[0], output_shape=env.action_space.n)\n",
    "target_model = model.model_basic(\n",
    "    input_shape=env.observation_space.shape[0], output_shape=env.action_space.n)"
   ]
  },
  {
   "cell_type": "code",
   "execution_count": 17,
   "metadata": {
    "ExecuteTime": {
     "end_time": "2019-02-04T11:00:40.812623Z",
     "start_time": "2019-02-04T11:00:40.808474Z"
    }
   },
   "outputs": [],
   "source": [
    "multi_step = MultiStep(env=env, model=model1,\n",
    "                       target_model=target_model, config=conf)\n",
    "agents.append(multi_step)"
   ]
  },
  {
   "cell_type": "code",
   "execution_count": 18,
   "metadata": {
    "ExecuteTime": {
     "end_time": "2019-02-04T11:01:34.431651Z",
     "start_time": "2019-02-04T11:00:40.815486Z"
    },
    "scrolled": true
   },
   "outputs": [],
   "source": [
    "multi_step.train(nb_episode=nb_episode)"
   ]
  },
  {
   "cell_type": "markdown",
   "metadata": {},
   "source": [
    "## Prioritized Experience Replay"
   ]
  },
  {
   "cell_type": "code",
   "execution_count": 19,
   "metadata": {
    "ExecuteTime": {
     "end_time": "2019-02-04T11:01:34.435544Z",
     "start_time": "2019-02-04T11:01:34.433121Z"
    }
   },
   "outputs": [],
   "source": [
    "env_id = \"CartPole-v0\"\n",
    "env = gym.make(env_id)\n",
    "env._max_episode_steps = 40000"
   ]
  },
  {
   "cell_type": "code",
   "execution_count": 20,
   "metadata": {
    "ExecuteTime": {
     "end_time": "2019-02-04T11:01:34.445898Z",
     "start_time": "2019-02-04T11:01:34.436909Z"
    }
   },
   "outputs": [],
   "source": [
    "model1 = model.model_basic(\n",
    "    input_shape=env.observation_space.shape[0], output_shape=env.action_space.n)\n",
    "target_model = model.model_basic(\n",
    "    input_shape=env.observation_space.shape[0], output_shape=env.action_space.n)"
   ]
  },
  {
   "cell_type": "code",
   "execution_count": 21,
   "metadata": {
    "ExecuteTime": {
     "end_time": "2019-02-04T11:01:34.451659Z",
     "start_time": "2019-02-04T11:01:34.447293Z"
    }
   },
   "outputs": [],
   "source": [
    "prioritized = Prioritized(env=env, model=model1,\n",
    "                          target_model=target_model, config=conf)\n",
    "agents.append(prioritized)"
   ]
  },
  {
   "cell_type": "code",
   "execution_count": 22,
   "metadata": {
    "ExecuteTime": {
     "end_time": "2019-02-04T11:02:43.520226Z",
     "start_time": "2019-02-04T11:01:34.453137Z"
    },
    "scrolled": true
   },
   "outputs": [],
   "source": [
    "prioritized.train(nb_episode=nb_episode)"
   ]
  },
  {
   "cell_type": "markdown",
   "metadata": {},
   "source": [
    "## Dueling Networks"
   ]
  },
  {
   "cell_type": "code",
   "execution_count": 23,
   "metadata": {
    "ExecuteTime": {
     "end_time": "2019-02-04T11:02:43.532099Z",
     "start_time": "2019-02-04T11:02:43.521563Z"
    }
   },
   "outputs": [],
   "source": [
    "env_id = \"CartPole-v0\"\n",
    "env = gym.make(env_id)\n",
    "env._max_episode_steps = 40000"
   ]
  },
  {
   "cell_type": "code",
   "execution_count": 24,
   "metadata": {
    "ExecuteTime": {
     "end_time": "2019-02-04T11:02:43.539287Z",
     "start_time": "2019-02-04T11:02:43.533976Z"
    }
   },
   "outputs": [],
   "source": [
    "model1 = model.ModelDuelings(\n",
    "    input_shape=env.observation_space.shape[0], output_shape=env.action_space.n)\n",
    "target_model = model.ModelDuelings(\n",
    "    input_shape=env.observation_space.shape[0], output_shape=env.action_space.n)"
   ]
  },
  {
   "cell_type": "code",
   "execution_count": 25,
   "metadata": {
    "ExecuteTime": {
     "end_time": "2019-02-04T11:02:43.543247Z",
     "start_time": "2019-02-04T11:02:43.540567Z"
    }
   },
   "outputs": [],
   "source": [
    "duelings = DQN(env=env, model=model1, target_model=target_model,\n",
    "               config=conf, name_agent='dueling')\n",
    "agents.append(duelings)"
   ]
  },
  {
   "cell_type": "code",
   "execution_count": 26,
   "metadata": {
    "ExecuteTime": {
     "end_time": "2019-02-04T11:06:15.065684Z",
     "start_time": "2019-02-04T11:02:43.544668Z"
    },
    "scrolled": true
   },
   "outputs": [],
   "source": [
    "duelings.train(nb_episode=nb_episode)"
   ]
  },
  {
   "cell_type": "markdown",
   "metadata": {},
   "source": [
    "# Rainbow"
   ]
  },
  {
   "cell_type": "code",
   "execution_count": 27,
   "metadata": {
    "ExecuteTime": {
     "end_time": "2019-02-04T11:06:15.069577Z",
     "start_time": "2019-02-04T11:06:15.067024Z"
    }
   },
   "outputs": [],
   "source": [
    "env_id = \"CartPole-v0\"\n",
    "env = gym.make(env_id)\n",
    "env._max_episode_steps = 40000"
   ]
  },
  {
   "cell_type": "code",
   "execution_count": 28,
   "metadata": {
    "ExecuteTime": {
     "end_time": "2019-02-04T11:06:15.084594Z",
     "start_time": "2019-02-04T11:06:15.070922Z"
    }
   },
   "outputs": [],
   "source": [
    "model1 = model.ModelRainbow(\n",
    "    input_shape=env.observation_space.shape[0], output_shape=env.action_space.n, nb_atoms=51)\n",
    "target_model = model.ModelRainbow(\n",
    "    input_shape=env.observation_space.shape[0], output_shape=env.action_space.n, nb_atoms=51)"
   ]
  },
  {
   "cell_type": "code",
   "execution_count": 29,
   "metadata": {
    "ExecuteTime": {
     "end_time": "2019-02-04T11:06:15.088278Z",
     "start_time": "2019-02-04T11:06:15.085793Z"
    }
   },
   "outputs": [],
   "source": [
    "rainbow = Rainbow(env=env, model=model1, target_model=target_model, config=conf)\n",
    "# agents.append(rainbow)"
   ]
  },
  {
   "cell_type": "code",
   "execution_count": 30,
   "metadata": {
    "ExecuteTime": {
     "end_time": "2019-02-04T11:15:04.133075Z",
     "start_time": "2019-02-04T11:06:15.089473Z"
    }
   },
   "outputs": [],
   "source": [
    "rainbow.train(nb_episode=nb_episode)"
   ]
  },
  {
   "cell_type": "markdown",
   "metadata": {},
   "source": [
    "# Comparison of the models"
   ]
  },
  {
   "cell_type": "markdown",
   "metadata": {},
   "source": [
    "We define a function to plot the evolution of the rewards of the models. Function are smoothed with a moving average over 25 points for the sake of readability."
   ]
  },
  {
   "cell_type": "code",
   "execution_count": 41,
   "metadata": {
    "ExecuteTime": {
     "end_time": "2019-02-04T11:15:04.285882Z",
     "start_time": "2019-02-04T11:15:04.134454Z"
    }
   },
   "outputs": [],
   "source": [
    "from scipy.signal import savgol_filter\n",
    "import numpy as np\n",
    "\n",
    "fontsize = 18\n",
    "params = {'axes.labelsize': fontsize,\n",
    "          'font.size': fontsize,\n",
    "          'legend.fontsize': fontsize - 3,\n",
    "          'axes.titlesize': fontsize + 4,\n",
    "          'xtick.labelsize': fontsize,\n",
    "          'ytick.labelsize': fontsize}\n",
    "plt.rcParams.update(params)\n",
    "\n",
    "def smooth(x,window_len=20,window='hanning'): \n",
    "    s=np.r_[x[window_len-1:0:-1],x,x[-1:-window_len:-1]]\n",
    "    w=np.ones(window_len,'d')\n",
    "    y=np.convolve(w/w.sum(),s,mode='valid')\n",
    "    \n",
    "    return y \n",
    "\n",
    "def plot_reward(agent):\n",
    "    plt.figure(figsize=(12, 6))\n",
    "    for i in range(len(agent)):\n",
    "        plt.plot(smooth(agent[i].rewards), label=agent[i].name_agent)\n",
    "    plt.legend()\n",
    "    plt.ylim((0,400))\n",
    "    plt.xlim((0,700))\n",
    "    plt.xlabel('episodes')\n",
    "    plt.ylabel('rewards')\n",
    "    plt.show()"
   ]
  },
  {
   "cell_type": "code",
   "execution_count": 42,
   "metadata": {
    "ExecuteTime": {
     "end_time": "2019-02-04T11:37:25.070517Z",
     "start_time": "2019-02-04T11:37:24.884387Z"
    }
   },
   "outputs": [
    {
     "data": {
      "image/png": "[encoded data removed]",
      "text/plain": [
       "<Figure size 864x432 with 1 Axes>"
      ]
     },
     "metadata": {},
     "output_type": "display_data"
    }
   ],
   "source": [
    "plot_reward(agents)"
   ]
  },
  {
   "cell_type": "code",
   "execution_count": null,
   "metadata": {},
   "outputs": [],
   "source": []
  }
 ],
 "metadata": {
  "kernelspec": {
   "display_name": "Python [default]",
   "language": "python",
   "name": "python3"
  },
  "language_info": {
   "codemirror_mode": {
    "name": "ipython",
    "version": 3
   },
   "file_extension": ".py",
   "mimetype": "text/x-python",
   "name": "python",
   "nbconvert_exporter": "python",
   "pygments_lexer": "ipython3",
   "version": "3.6.5"
  },
  "varInspector": {
   "cols": {
    "lenName": 16,
    "lenType": 16,
    "lenVar": 40
   },
   "kernels_config": {
    "python": {
     "delete_cmd_postfix": "",
     "delete_cmd_prefix": "del ",
     "library": "var_list.py",
     "varRefreshCmd": "print(var_dic_list())"
    },
    "r": {
     "delete_cmd_postfix": ") ",
     "delete_cmd_prefix": "rm(",
     "library": "var_list.r",
     "varRefreshCmd": "cat(var_dic_list()) "
    }
   },
   "types_to_exclude": [
    "module",
    "function",
    "builtin_function_or_method",
    "instance",
    "_Feature"
   ],
   "window_display": false
  }
 },
 "nbformat": 4,
 "nbformat_minor": 2
}
